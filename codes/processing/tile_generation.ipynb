{
 "cells": [
  {
   "cell_type": "markdown",
   "metadata": {},
   "source": [
    "# Import"
   ]
  },
  {
   "cell_type": "code",
   "execution_count": 1,
   "metadata": {},
   "outputs": [
    {
     "name": "stdout",
     "output_type": "stream",
     "text": [
      "2022-6-29\n"
     ]
    }
   ],
   "source": [
    "import pandas as pd\n",
    "import numpy as np\n",
    "import matplotlib.pyplot as plt\n",
    "import matplotlib as mpl\n",
    "import matplotlib.patches as patches\n",
    "from tqdm import tqdm\n",
    "from astropy.visualization import simple_norm\n",
    "import pickle\n",
    "from skimage import io\n",
    "\n",
    "from scipy.stats import stats\n",
    "import math\n",
    "import os\n",
    "\n",
    "import datetime\n",
    "datecode = '{}-{}-{}'.format(datetime.datetime.now().year, datetime.datetime.now().month, datetime.datetime.now().day)\n",
    "\n",
    "interim_dir = '/mnt/c/Projects/Blogs/AusAEM_blog_TS/data/interim/'\n",
    "processed_dir = '/mnt/c/Projects/Blogs/AusAEM_blog_TS/data/processed/'\n",
    "raw_dir = '/mnt/c/Projects/Blogs/AusAEM_blog_TS/data/raw/'\n",
    "external_dir = '/mnt/c/Projects/Blogs/AusAEM_blog_TS/data/external/'\n",
    "\n",
    "# make new folders in interim and processed directories for today's date\n",
    "\n",
    "if os.path.join(interim_dir, datecode) not in [x[0] for x in os.walk(interim_dir)]:\n",
    "    os.mkdir(os.path.join(interim_dir, datecode))\n",
    "if os.path.join(processed_dir, datecode) not in [x[0] for x in os.walk(processed_dir)]:\n",
    "    os.mkdir(os.path.join(processed_dir, datecode))\n",
    "\n",
    "print(datecode)\n",
    "\n"
   ]
  },
  {
   "cell_type": "code",
   "execution_count": 2,
   "metadata": {},
   "outputs": [],
   "source": [
    "QLD_EM = pd.read_csv('/mnt/c/Projects/Blogs/AusAEM_blog_TS/data/processed/QLD_AusEM_interp.csv')\n",
    "\n",
    "# Window parameter selection\n",
    "# we want resolution to be ~1/20 or 1/30 of window width\n",
    "# x interval in dataset is 10 m\n",
    "\n",
    "window_resolution_m = 20 # x dimension sample interval in m\n",
    "window_size_m = 500 # window x dimension in m\n",
    "overlap_wid_m = 200 # ~half window size - must be divisible by window_resolution\n",
    "\n",
    "# convert m to sample counts\n",
    "window_size = int(window_size_m / window_resolution_m)\n",
    "overlap_wid = int(overlap_wid_m / window_resolution_m)\n",
    "\n",
    "QLD_EM = QLD_EM.iloc[::int(window_resolution_m/20)]"
   ]
  },
  {
   "cell_type": "markdown",
   "metadata": {},
   "source": [
    "# Normalisation"
   ]
  },
  {
   "cell_type": "code",
   "execution_count": 3,
   "metadata": {},
   "outputs": [],
   "source": [
    "# 0-1 normalisation per timegate\n",
    "\n",
    "EMZ_HPRG_list = ['EMZ_HPRG' + '[{}]'.format(i) for i in range(1,16)]\n",
    "EMZ_HPRG_norm_list = [i + '_norm' for i in EMZ_HPRG_list]\n",
    "EMZ_HPRG_lognorm_list = [i + '_lognorm' for i in EMZ_HPRG_list]\n",
    "\n",
    "# 0-1 normalisation per timegate\n",
    "\n",
    "for timegate in range(len(EMZ_HPRG_list)):\n",
    "    min = QLD_EM[EMZ_HPRG_list[timegate]].min()\n",
    "    max = QLD_EM[EMZ_HPRG_list[timegate]].max()\n",
    "    QLD_EM[EMZ_HPRG_norm_list[timegate]] = (QLD_EM[EMZ_HPRG_list[timegate]] - min) / (max - min)\n",
    "    QLD_EM[EMZ_HPRG_lognorm_list[timegate]] = np.log10(QLD_EM[EMZ_HPRG_norm_list[timegate]] + 0.00001)\n",
    "    logmin = QLD_EM[EMZ_HPRG_lognorm_list[timegate]].min()\n",
    "    logmax = QLD_EM[EMZ_HPRG_lognorm_list[timegate]].max()    \n",
    "    QLD_EM[EMZ_HPRG_lognorm_list[timegate]] = ((QLD_EM[EMZ_HPRG_lognorm_list[timegate]] - min) / (max - min)) + 1"
   ]
  },
  {
   "cell_type": "markdown",
   "metadata": {},
   "source": [
    "# Window generation"
   ]
  },
  {
   "cell_type": "code",
   "execution_count": 5,
   "metadata": {},
   "outputs": [
    {
     "name": "stderr",
     "output_type": "stream",
     "text": [
      "100%|██████████| 159/159 [1:15:10<00:00, 28.37s/it]   \n"
     ]
    }
   ],
   "source": [
    "# Original windows\n",
    "\n",
    "# generate windowed data\n",
    "data_list = []\n",
    "x_list = []\n",
    "E_list = []\n",
    "N_list = []\n",
    "line_list = []\n",
    "\n",
    "# loop through individual lines\n",
    "j = 0\n",
    "for line in tqdm(QLD_EM.Line.unique()):\n",
    "\n",
    "    data = QLD_EM[QLD_EM.Line == line][EMZ_HPRG_lognorm_list]\n",
    "    \n",
    "    # create windows\n",
    "    for i in range(0,len(data), int(overlap_wid)):\n",
    "        if i + window_size < len(data):\n",
    "            # timegate data window\n",
    "            tile = data.iloc[i:i+window_size]\n",
    "            image = 255*tile.values\n",
    "            image = image.astype(np.uint8).T\n",
    "            fn = '{}/tiles_500m/{}.png'.format(datecode, str(j).zfill(7))\n",
    "            io.imsave(interim_dir + fn, image, check_contrast=False)\n",
    "            data_list.append(fn)\n",
    "            j+=1\n",
    "\n",
    "            # line distance window\n",
    "            x_subset = QLD_EM[QLD_EM.Line == line]['x'].iloc[i:i+window_size].values.astype('int16')\n",
    "            x_list.append(x_subset)\n",
    "\n",
    "            # easting window\n",
    "            E_subset = QLD_EM[QLD_EM.Line == line]['E'].iloc[i:i+window_size].values.astype('float32')\n",
    "            E_list.append(E_subset)\n",
    "\n",
    "            # northing window\n",
    "            N_subset = QLD_EM[QLD_EM.Line == line]['N'].iloc[i:i+window_size].values.astype('float32')\n",
    "            N_list.append(N_subset)\n",
    "\n",
    "            # line name window\n",
    "            line_subset = QLD_EM[QLD_EM.Line == line]['Line'].iloc[i:i+window_size].values[0]\n",
    "            line_list.append(line_subset)\n",
    "\n",
    "stack = np.array(data_list)\n",
    "x_stack = np.array(x_list)\n",
    "E_stack  = np.array(E_list)\n",
    "N_stack = np.array(N_list)\n",
    "line_stack = np.array(line_list)\n",
    "\n",
    "# save these to pickles\n",
    "\n",
    "with open(interim_dir + '{}/filenames_all_normdata_{}m-window.pickle'.format(datecode, window_size_m), 'wb') as handle1:\n",
    "    pickle.dump(stack, handle1, protocol=4)\n",
    "\n",
    "with open(interim_dir + '{}/all_x_{}m-window_stack.pickle'.format(datecode, window_size_m), 'wb') as handle2:\n",
    "    pickle.dump(x_stack, handle2, protocol=4)\n",
    "\n",
    "with open(interim_dir + '{}/all_line_{}m-window_stack.pickle'.format(datecode, window_size_m), 'wb') as handle3:\n",
    "    pickle.dump(line_stack, handle3, protocol=4)\n",
    "\n",
    "with open(interim_dir + '{}/all_easting_{}m-window_stack.pickle'.format(datecode, window_size_m), 'wb') as handle4:\n",
    "    pickle.dump(E_stack, handle4, protocol=4)\n",
    "\n",
    "with open(interim_dir + '{}/all_northing_{}m-window_stack.pickle'.format(datecode, window_size_m), 'wb') as handle5:\n",
    "    pickle.dump(N_stack, handle5, protocol=4)"
   ]
  },
  {
   "cell_type": "code",
   "execution_count": null,
   "metadata": {},
   "outputs": [],
   "source": []
  }
 ],
 "metadata": {
  "kernelspec": {
   "display_name": "Python 3.7.12 ('datascience_37')",
   "language": "python",
   "name": "python3"
  },
  "language_info": {
   "codemirror_mode": {
    "name": "ipython",
    "version": 3
   },
   "file_extension": ".py",
   "mimetype": "text/x-python",
   "name": "python",
   "nbconvert_exporter": "python",
   "pygments_lexer": "ipython3",
   "version": "3.7.12"
  },
  "orig_nbformat": 4,
  "vscode": {
   "interpreter": {
    "hash": "2c4ee8aa3684a5e48d0ee2649853e326efebd9f72f9bd2b5d7b614c002cb51c6"
   }
  }
 },
 "nbformat": 4,
 "nbformat_minor": 2
}
