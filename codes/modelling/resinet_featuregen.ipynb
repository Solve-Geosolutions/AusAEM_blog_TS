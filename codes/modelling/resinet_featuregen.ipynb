{
 "cells": [
  {
   "cell_type": "markdown",
   "metadata": {},
   "source": [
    "# Library import"
   ]
  },
  {
   "cell_type": "code",
   "execution_count": 2,
   "metadata": {},
   "outputs": [
    {
     "name": "stdout",
     "output_type": "stream",
     "text": [
      "2022-6-29\n"
     ]
    }
   ],
   "source": [
    "# import libraries\n",
    "\n",
    "import shutil, timm, time\n",
    "from tqdm import tqdm\n",
    "from pprint import pprint\n",
    "from timm import create_model\n",
    "from fastai.vision.all import *\n",
    "\n",
    "from astropy.visualization import simple_norm\n",
    "import pandas as pd\n",
    "import matplotlib.pyplot as plt\n",
    "import plotly.graph_objects as go\n",
    "import numpy as np\n",
    "\n",
    "# import geopandas as gpd\n",
    "# occs = gpd.read_file('/mnt/c/Projects/RIO/WINU_AEM/data/external/Paterson_occs.gpkg')\n",
    "\n",
    "import datetime\n",
    "datecode = '{}-{}-{}'.format(datetime.datetime.now().year, datetime.datetime.now().month, datetime.datetime.now().day)\n",
    "\n",
    "interim_dir = '/mnt/c/Projects/Blogs/AusAEM_blog_TS/data/interim/'\n",
    "processed_dir = '/mnt/c/Projects/Blogs/AusAEM_blog_TS/data/processed/'\n",
    "raw_dir = '/mnt/c/Projects/Blogs/AusAEM_blog_TS/data/raw/'\n",
    "external_dir = '/mnt/c/Projects/Blogs/AusAEM_blog_TS/data/external/'\n",
    "\n",
    "# make new folders in interim and processed directories for today's date\n",
    "\n",
    "if os.path.join(interim_dir, datecode) not in [x[0] for x in os.walk(interim_dir)]:\n",
    "    os.mkdir(os.path.join(interim_dir, datecode))\n",
    "if os.path.join(processed_dir, datecode) not in [x[0] for x in os.walk(processed_dir)]:\n",
    "    os.mkdir(os.path.join(processed_dir, datecode))\n",
    "\n",
    "print(datecode)"
   ]
  },
  {
   "cell_type": "markdown",
   "metadata": {},
   "source": [
    "# Data import"
   ]
  },
  {
   "cell_type": "code",
   "execution_count": 3,
   "metadata": {},
   "outputs": [],
   "source": [
    "QLD_EM = pd.read_csv('/mnt/c/Projects/Blogs/AusAEM_blog_TS/data/processed/QLD_AusEM_interp.csv')\n",
    "\n",
    "# Window parameter selection\n",
    "# we want resolution to be ~1/20 or 1/30 of window width\n",
    "# x interval in dataset is 10 m\n",
    "\n",
    "window_resolution_m = 100 # x dimension sample interval in m\n",
    "window_size_m = 2000 # window x dimension in m\n",
    "overlap_wid_m = 500 # ~half window size - must be divisible by window_resolution\n",
    "\n",
    "# convert m to sample counts\n",
    "window_size = int(window_size_m / window_resolution_m)\n",
    "overlap_wid = int(overlap_wid_m / window_resolution_m)\n",
    "\n",
    "QLD_EM = QLD_EM.iloc[::int(window_resolution_m/20)]"
   ]
  },
  {
   "cell_type": "markdown",
   "metadata": {},
   "source": [
    "## Definitions, normalisation"
   ]
  },
  {
   "cell_type": "code",
   "execution_count": 4,
   "metadata": {},
   "outputs": [],
   "source": [
    "import pylab\n",
    "NUM_COLORS = 15\n",
    "\n",
    "cm = pylab.get_cmap('plasma')\n",
    "color_list = []\n",
    "for i in range(NUM_COLORS):\n",
    "    color = cm(i/NUM_COLORS)  # color will now be an RGBA tuple\n",
    "    color_list.append(color)\n",
    "\n",
    "# 0-1 normalisation per timegate\n",
    "\n",
    "EMZ_HPRG_list = ['EMZ_HPRG' + '[{}]'.format(i) for i in range(1,16)]\n",
    "EMZ_HPRG_norm_list = [i + '_norm' for i in EMZ_HPRG_list]\n",
    "EMZ_HPRG_lognorm_list = [i + '_lognorm' for i in EMZ_HPRG_list]\n",
    "\n",
    "# 0-1 normalisation per timegate\n",
    "\n",
    "for timegate in range(len(EMZ_HPRG_list)):\n",
    "    min = QLD_EM[EMZ_HPRG_list[timegate]].min()\n",
    "    max = QLD_EM[EMZ_HPRG_list[timegate]].max()\n",
    "    QLD_EM[EMZ_HPRG_norm_list[timegate]] = (QLD_EM[EMZ_HPRG_list[timegate]] - min) / (max - min)\n",
    "    QLD_EM[EMZ_HPRG_lognorm_list[timegate]] = np.log10(QLD_EM[EMZ_HPRG_norm_list[timegate]] + 0.00001)\n",
    "    logmin = QLD_EM[EMZ_HPRG_lognorm_list[timegate]].min()\n",
    "    logmax = QLD_EM[EMZ_HPRG_lognorm_list[timegate]].max()    \n",
    "    QLD_EM[EMZ_HPRG_lognorm_list[timegate]] = ((QLD_EM[EMZ_HPRG_lognorm_list[timegate]] - min) / (max - min)) + 1"
   ]
  },
  {
   "cell_type": "markdown",
   "metadata": {},
   "source": [
    "# Load image paths"
   ]
  },
  {
   "cell_type": "code",
   "execution_count": 7,
   "metadata": {},
   "outputs": [
    {
     "data": {
      "text/html": [
       "<div>\n",
       "<style scoped>\n",
       "    .dataframe tbody tr th:only-of-type {\n",
       "        vertical-align: middle;\n",
       "    }\n",
       "\n",
       "    .dataframe tbody tr th {\n",
       "        vertical-align: top;\n",
       "    }\n",
       "\n",
       "    .dataframe thead th {\n",
       "        text-align: right;\n",
       "    }\n",
       "</style>\n",
       "<table border=\"1\" class=\"dataframe\">\n",
       "  <thead>\n",
       "    <tr style=\"text-align: right;\">\n",
       "      <th></th>\n",
       "      <th>path</th>\n",
       "      <th>labels</th>\n",
       "      <th>id</th>\n",
       "    </tr>\n",
       "  </thead>\n",
       "  <tbody>\n",
       "    <tr>\n",
       "      <th>0</th>\n",
       "      <td>/mnt/c/Projects/Blogs/AusAEM_blog_TS/data/interim/2022-6-29/tiles/0000000.png</td>\n",
       "      <td>1</td>\n",
       "      <td>0</td>\n",
       "    </tr>\n",
       "    <tr>\n",
       "      <th>1</th>\n",
       "      <td>/mnt/c/Projects/Blogs/AusAEM_blog_TS/data/interim/2022-6-29/tiles/0000001.png</td>\n",
       "      <td>1</td>\n",
       "      <td>1</td>\n",
       "    </tr>\n",
       "    <tr>\n",
       "      <th>2</th>\n",
       "      <td>/mnt/c/Projects/Blogs/AusAEM_blog_TS/data/interim/2022-6-29/tiles/0000002.png</td>\n",
       "      <td>1</td>\n",
       "      <td>2</td>\n",
       "    </tr>\n",
       "    <tr>\n",
       "      <th>3</th>\n",
       "      <td>/mnt/c/Projects/Blogs/AusAEM_blog_TS/data/interim/2022-6-29/tiles/0000003.png</td>\n",
       "      <td>1</td>\n",
       "      <td>3</td>\n",
       "    </tr>\n",
       "    <tr>\n",
       "      <th>4</th>\n",
       "      <td>/mnt/c/Projects/Blogs/AusAEM_blog_TS/data/interim/2022-6-29/tiles/0000004.png</td>\n",
       "      <td>1</td>\n",
       "      <td>4</td>\n",
       "    </tr>\n",
       "    <tr>\n",
       "      <th>...</th>\n",
       "      <td>...</td>\n",
       "      <td>...</td>\n",
       "      <td>...</td>\n",
       "    </tr>\n",
       "    <tr>\n",
       "      <th>60900</th>\n",
       "      <td>/mnt/c/Projects/Blogs/AusAEM_blog_TS/data/interim/2022-6-29/tiles/0060900.png</td>\n",
       "      <td>1</td>\n",
       "      <td>60900</td>\n",
       "    </tr>\n",
       "    <tr>\n",
       "      <th>60901</th>\n",
       "      <td>/mnt/c/Projects/Blogs/AusAEM_blog_TS/data/interim/2022-6-29/tiles/0060901.png</td>\n",
       "      <td>1</td>\n",
       "      <td>60901</td>\n",
       "    </tr>\n",
       "    <tr>\n",
       "      <th>60902</th>\n",
       "      <td>/mnt/c/Projects/Blogs/AusAEM_blog_TS/data/interim/2022-6-29/tiles/0060902.png</td>\n",
       "      <td>1</td>\n",
       "      <td>60902</td>\n",
       "    </tr>\n",
       "    <tr>\n",
       "      <th>60903</th>\n",
       "      <td>/mnt/c/Projects/Blogs/AusAEM_blog_TS/data/interim/2022-6-29/tiles/0060903.png</td>\n",
       "      <td>1</td>\n",
       "      <td>60903</td>\n",
       "    </tr>\n",
       "    <tr>\n",
       "      <th>60904</th>\n",
       "      <td>/mnt/c/Projects/Blogs/AusAEM_blog_TS/data/interim/2022-6-29/tiles/0060904.png</td>\n",
       "      <td>1</td>\n",
       "      <td>60904</td>\n",
       "    </tr>\n",
       "  </tbody>\n",
       "</table>\n",
       "<p>60905 rows × 3 columns</p>\n",
       "</div>"
      ],
      "text/plain": [
       "                                                                                path  \\\n",
       "0      /mnt/c/Projects/Blogs/AusAEM_blog_TS/data/interim/2022-6-29/tiles/0000000.png   \n",
       "1      /mnt/c/Projects/Blogs/AusAEM_blog_TS/data/interim/2022-6-29/tiles/0000001.png   \n",
       "2      /mnt/c/Projects/Blogs/AusAEM_blog_TS/data/interim/2022-6-29/tiles/0000002.png   \n",
       "3      /mnt/c/Projects/Blogs/AusAEM_blog_TS/data/interim/2022-6-29/tiles/0000003.png   \n",
       "4      /mnt/c/Projects/Blogs/AusAEM_blog_TS/data/interim/2022-6-29/tiles/0000004.png   \n",
       "...                                                                              ...   \n",
       "60900  /mnt/c/Projects/Blogs/AusAEM_blog_TS/data/interim/2022-6-29/tiles/0060900.png   \n",
       "60901  /mnt/c/Projects/Blogs/AusAEM_blog_TS/data/interim/2022-6-29/tiles/0060901.png   \n",
       "60902  /mnt/c/Projects/Blogs/AusAEM_blog_TS/data/interim/2022-6-29/tiles/0060902.png   \n",
       "60903  /mnt/c/Projects/Blogs/AusAEM_blog_TS/data/interim/2022-6-29/tiles/0060903.png   \n",
       "60904  /mnt/c/Projects/Blogs/AusAEM_blog_TS/data/interim/2022-6-29/tiles/0060904.png   \n",
       "\n",
       "       labels     id  \n",
       "0           1      0  \n",
       "1           1      1  \n",
       "2           1      2  \n",
       "3           1      3  \n",
       "4           1      4  \n",
       "...       ...    ...  \n",
       "60900       1  60900  \n",
       "60901       1  60901  \n",
       "60902       1  60902  \n",
       "60903       1  60903  \n",
       "60904       1  60904  \n",
       "\n",
       "[60905 rows x 3 columns]"
      ]
     },
     "execution_count": 7,
     "metadata": {},
     "output_type": "execute_result"
    }
   ],
   "source": [
    "# set paths to image tiles\n",
    "img_path = interim_dir + '{}/tiles/'.format(file_datecode)\n",
    "\n",
    "# read images paths into data frame \n",
    "filelist= np.array([f for f in os.listdir(img_path) if f.endswith('.png') or f.endswith('.tif')])\n",
    "df = pd.DataFrame()\n",
    "df['path'] = [os.path.join(img_path, x) for x in filelist]\n",
    "df['labels'] = 1\n",
    "# df['is_valid'] = False\n",
    "# df['is_valid'][::20] = True\n",
    "df['id'] = [int(stringy[-11:-4]) for stringy in df.path]\n",
    "df"
   ]
  },
  {
   "cell_type": "markdown",
   "metadata": {},
   "source": [
    "# Create dataloader"
   ]
  },
  {
   "cell_type": "code",
   "execution_count": 8,
   "metadata": {},
   "outputs": [],
   "source": [
    "# create dataloader from dataframe\n",
    "def create_dls(df, size=224, x_col=\"path\", y_col=\"id\", col_splitter=True, bs=128):\n",
    "  item_tfms = [Resize(size)]\n",
    "  batch_tfms = []\n",
    "  if col_splitter:\n",
    "    splitter = ColSplitter(\"is_valid\")\n",
    "  else:\n",
    "    splitter = RandomSplitter(valid_pct=0.0, seed=36)\n",
    "  # Create datablock\n",
    "  rocks = DataBlock(\n",
    "              blocks = (ImageBlock, CategoryBlock),\n",
    "              get_x = ColReader(x_col),\n",
    "              splitter = splitter,\n",
    "              get_y = ColReader(y_col),\n",
    "              item_tfms = item_tfms,\n",
    "              batch_tfms = batch_tfms\n",
    "          )\n",
    "  dls = rocks.dataloaders(df,bs=bs, shuffle=False, drop_last=False)\n",
    "  return dls\n",
    "\n",
    "# define input and output functions\n",
    "def get_output(module, input_value, output):\n",
    "  return output.flatten(1)\n",
    "def get_input(module, input_value, output):\n",
    "  return list(input_value)[0]\n",
    "\n",
    "# get layer named: name\n",
    "def get_named_module_from_model(model, name):\n",
    "  for n, m in model.named_modules():\n",
    "    if n == name:\n",
    "      return m\n",
    "  return None\n",
    "\n",
    "# hook to last fully connect layer\n",
    "class Hook():\n",
    "  \"Create a hook on `m` with `hook_func`.\"\n",
    "  def __init__(self, m:nn.Module, hook_func, is_forward:bool=True, detach:bool=True):\n",
    "    self.hook_func,self.detach,self.stored = hook_func,detach,None\n",
    "    f = m.register_forward_hook if is_forward else m.register_backward_hook\n",
    "    self.hook = f(self.hook_fn)\n",
    "    self.removed = False\n",
    "\n",
    "  def hook_fn(self, module:nn.Module, input, output):\n",
    "    \"Applies `hook_func` to `module`, `input`, `output`.\"\n",
    "    if self.detach:\n",
    "      input  = (o.detach() for o in input ) if is_listy(input ) else input.detach()\n",
    "      output = (o.detach() for o in output) if is_listy(output) else output.detach()\n",
    "    self.stored = self.hook_func(module, input, output)\n",
    "\n",
    "  def remove(self):\n",
    "    \"Remove the hook from the model.\"\n",
    "    if not self.removed:\n",
    "      self.hook.remove()\n",
    "      self.removed=True\n",
    "\n",
    "  def __enter__(self, *args): return self\n",
    "  def __exit__(self, *args): self.remove()"
   ]
  },
  {
   "cell_type": "code",
   "execution_count": 9,
   "metadata": {},
   "outputs": [
    {
     "data": {
      "image/png": "[encoded data removed]",
      "text/plain": [
       "<Figure size 648x648 with 9 Axes>"
      ]
     },
     "metadata": {
      "needs_background": "light"
     },
     "output_type": "display_data"
    }
   ],
   "source": [
    "# define batch size\n",
    "bs = 12\n",
    "\n",
    "# create dataloader for feature extraction\n",
    "dls = create_dls(df,col_splitter=False, bs=bs)\n",
    "\n",
    "dls.show_batch()"
   ]
  },
  {
   "cell_type": "markdown",
   "metadata": {},
   "source": [
    "# Prepare model"
   ]
  },
  {
   "cell_type": "code",
   "execution_count": 10,
   "metadata": {},
   "outputs": [
    {
     "name": "stdout",
     "output_type": "stream",
     "text": [
      "['efficientnetv2_rw_m',\n",
      " 'efficientnetv2_rw_s',\n",
      " 'efficientnetv2_rw_t',\n",
      " 'gc_efficientnetv2_rw_t',\n",
      " 'tf_efficientnetv2_b0',\n",
      " 'tf_efficientnetv2_b1',\n",
      " 'tf_efficientnetv2_b2',\n",
      " 'tf_efficientnetv2_b3',\n",
      " 'tf_efficientnetv2_l',\n",
      " 'tf_efficientnetv2_l_in21ft1k',\n",
      " 'tf_efficientnetv2_l_in21k',\n",
      " 'tf_efficientnetv2_m',\n",
      " 'tf_efficientnetv2_m_in21ft1k',\n",
      " 'tf_efficientnetv2_m_in21k',\n",
      " 'tf_efficientnetv2_s',\n",
      " 'tf_efficientnetv2_s_in21ft1k',\n",
      " 'tf_efficientnetv2_s_in21k',\n",
      " 'tf_efficientnetv2_xl_in21ft1k',\n",
      " 'tf_efficientnetv2_xl_in21k']\n"
     ]
    }
   ],
   "source": [
    "# list model names\n",
    "model_names = timm.list_models('*efficientnetv2*',pretrained=True)\n",
    "pprint(model_names)"
   ]
  },
  {
   "cell_type": "code",
   "execution_count": 11,
   "metadata": {},
   "outputs": [
    {
     "name": "stdout",
     "output_type": "stream",
     "text": [
      "Finished prepare model!\n"
     ]
    }
   ],
   "source": [
    "# define body\n",
    "base_model_name = 'efficientnetv2_rw_s'\n",
    "\n",
    "# get the body\n",
    "body = create_model(base_model_name, pretrained=True, in_chans=3, num_classes=0)\n",
    "new_body = nn.Sequential(*list(body.children())[:-2])\n",
    "nf = num_features_model(nn.Sequential(*body.children())) \n",
    "\n",
    "# define head and model\n",
    "head = create_head(nf, dls.c)\n",
    "model = nn.Sequential(new_body, head)\n",
    "\n",
    "# initialise weight and create learner\n",
    "apply_init(model[1], nn.init.kaiming_normal_)\n",
    "learner = Learner(dls, model, loss_func=LabelSmoothingCrossEntropy(), metrics=accuracy)\n",
    "\n",
    "# get model and copy it to GPU\n",
    "model = learner.model\n",
    "model.cuda()\n",
    "linear_output_layer = get_named_module_from_model(model, \"1.4\")\n",
    "print(\"Finished prepare model!\")"
   ]
  },
  {
   "cell_type": "markdown",
   "metadata": {},
   "source": [
    "# Feature extraction"
   ]
  },
  {
   "cell_type": "code",
   "execution_count": 13,
   "metadata": {},
   "outputs": [
    {
     "name": "stdout",
     "output_type": "stream",
     "text": [
      "Generating feature map ...\n"
     ]
    },
    {
     "name": "stderr",
     "output_type": "stream",
     "text": [
      "5076it [42:16,  2.00it/s]\n"
     ]
    }
   ],
   "source": [
    "# run feature extraction procedure\n",
    "img_repr_map = {}\n",
    "# start_time = time.time()\n",
    "print(\"Generating feature map ...\")\n",
    "total = 0\n",
    "with Hook(linear_output_layer, get_output, True, True) as hook:\n",
    "    # start = time.time()\n",
    "    for i, (xb, yb) in tqdm(enumerate(dls[0])):\n",
    "        cur_bs = xb.shape[0]\n",
    "        end = i*bs + cur_bs\n",
    "        img_ids = dls[0].items[i*bs:end].path.values\n",
    "        result = model.eval()(xb)\n",
    "        img_reprs = hook.stored.cpu().numpy()\n",
    "        img_reprs = img_reprs.reshape(cur_bs, -1)\n",
    "        for j in range(cur_bs):\n",
    "            img_repr_map[img_ids[j]] = img_reprs[j]\n",
    "        # if(len(img_repr_map) % 1280 == 0):\n",
    "            # end = time.time()\n",
    "            # print(f'{end-start} secs for 1280 images')\n",
    "            # start = end\n",
    "\n",
    "# place features in a data frame\n",
    "# print(\"Total processing time: \", time.time()-start_time)\n",
    "df_feature = pd.DataFrame(img_repr_map.items(), columns=['path', 'feature']).sort_values('path')\n",
    "\n",
    "data = np.vstack(df_feature['feature'].values)\n",
    "\n",
    "# save to disk\n",
    "with open(interim_dir + '{}/QLD_AusEM_CNN-features_{}m-window_stack.pickle'.format(file_datecode, window_size_m), 'wb') as handle:\n",
    "    pickle.dump(data, handle, protocol=4)"
   ]
  },
  {
   "cell_type": "code",
   "execution_count": null,
   "metadata": {},
   "outputs": [],
   "source": []
  }
 ],
 "metadata": {
  "kernelspec": {
   "display_name": "Python 3.7.5 ('fastai_test')",
   "language": "python",
   "name": "python3"
  },
  "language_info": {
   "codemirror_mode": {
    "name": "ipython",
    "version": 3
   },
   "file_extension": ".py",
   "mimetype": "text/x-python",
   "name": "python",
   "nbconvert_exporter": "python",
   "pygments_lexer": "ipython3",
   "version": "3.7.5"
  },
  "orig_nbformat": 4,
  "vscode": {
   "interpreter": {
    "hash": "b3dee941a9805643130f8e8280a6edae90e5e3b997e53c16c4c8b2cd52f51cef"
   }
  }
 },
 "nbformat": 4,
 "nbformat_minor": 2
}
